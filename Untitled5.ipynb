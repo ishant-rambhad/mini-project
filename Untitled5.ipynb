{
 "cells": [
  {
   "cell_type": "code",
   "execution_count": 1,
   "id": "149f1d98",
   "metadata": {},
   "outputs": [
    {
     "name": "stdout",
     "output_type": "stream",
     "text": [
      "Collecting git+https://github.com/UKPLab/sentence-transformers.git\n",
      "  Cloning https://github.com/UKPLab/sentence-transformers.git to c:\\users\\ishant\\appdata\\local\\temp\\pip-req-build-waoum10e\n",
      "  Resolved https://github.com/UKPLab/sentence-transformers.git to commit fc2a2d84c42b886698f2b20a51af212d2d34e415\n",
      "  Preparing metadata (setup.py): started\n",
      "  Preparing metadata (setup.py): finished with status 'done'\n",
      "Requirement already satisfied: transformers<5.0.0,>=4.32.0 in c:\\users\\ishant\\appdata\\local\\programs\\python\\python310\\lib\\site-packages (from sentence-transformers==2.6.0.dev0) (4.37.2)\n",
      "Requirement already satisfied: tqdm in c:\\users\\ishant\\appdata\\roaming\\python\\python310\\site-packages (from sentence-transformers==2.6.0.dev0) (4.65.0)\n",
      "Requirement already satisfied: torch>=1.11.0 in c:\\users\\ishant\\appdata\\local\\programs\\python\\python310\\lib\\site-packages (from sentence-transformers==2.6.0.dev0) (2.2.0)\n",
      "Requirement already satisfied: numpy in c:\\users\\ishant\\appdata\\local\\programs\\python\\python310\\lib\\site-packages (from sentence-transformers==2.6.0.dev0) (1.24.3)\n",
      "Requirement already satisfied: scikit-learn in c:\\users\\ishant\\appdata\\roaming\\python\\python310\\site-packages (from sentence-transformers==2.6.0.dev0) (1.2.2)\n",
      "Requirement already satisfied: scipy in c:\\users\\ishant\\appdata\\roaming\\python\\python310\\site-packages (from sentence-transformers==2.6.0.dev0) (1.10.1)\n",
      "Requirement already satisfied: huggingface-hub>=0.15.1 in c:\\users\\ishant\\appdata\\local\\programs\\python\\python310\\lib\\site-packages (from sentence-transformers==2.6.0.dev0) (0.20.3)\n",
      "Requirement already satisfied: Pillow in c:\\users\\ishant\\appdata\\roaming\\python\\python310\\site-packages (from sentence-transformers==2.6.0.dev0) (9.4.0)\n",
      "Requirement already satisfied: filelock in c:\\users\\ishant\\appdata\\roaming\\python\\python310\\site-packages (from huggingface-hub>=0.15.1->sentence-transformers==2.6.0.dev0) (3.12.0)\n",
      "Requirement already satisfied: fsspec>=2023.5.0 in c:\\users\\ishant\\appdata\\local\\programs\\python\\python310\\lib\\site-packages (from huggingface-hub>=0.15.1->sentence-transformers==2.6.0.dev0) (2024.2.0)\n",
      "Requirement already satisfied: requests in c:\\users\\ishant\\appdata\\local\\programs\\python\\python310\\lib\\site-packages (from huggingface-hub>=0.15.1->sentence-transformers==2.6.0.dev0) (2.31.0)\n",
      "Requirement already satisfied: pyyaml>=5.1 in c:\\users\\ishant\\appdata\\local\\programs\\python\\python310\\lib\\site-packages (from huggingface-hub>=0.15.1->sentence-transformers==2.6.0.dev0) (6.0)\n",
      "Requirement already satisfied: typing-extensions>=3.7.4.3 in c:\\users\\ishant\\appdata\\local\\programs\\python\\python310\\lib\\site-packages (from huggingface-hub>=0.15.1->sentence-transformers==2.6.0.dev0) (4.9.0)\n",
      "Requirement already satisfied: packaging>=20.9 in c:\\users\\ishant\\appdata\\roaming\\python\\python310\\site-packages (from huggingface-hub>=0.15.1->sentence-transformers==2.6.0.dev0) (21.3)\n",
      "Requirement already satisfied: sympy in c:\\users\\ishant\\appdata\\local\\programs\\python\\python310\\lib\\site-packages (from torch>=1.11.0->sentence-transformers==2.6.0.dev0) (1.12)\n",
      "Requirement already satisfied: networkx in c:\\users\\ishant\\appdata\\local\\programs\\python\\python310\\lib\\site-packages (from torch>=1.11.0->sentence-transformers==2.6.0.dev0) (3.2.1)\n",
      "Requirement already satisfied: jinja2 in c:\\users\\ishant\\appdata\\roaming\\python\\python310\\site-packages (from torch>=1.11.0->sentence-transformers==2.6.0.dev0) (3.1.2)\n",
      "Requirement already satisfied: colorama in c:\\users\\ishant\\appdata\\roaming\\python\\python310\\site-packages (from tqdm->sentence-transformers==2.6.0.dev0) (0.4.5)\n",
      "Requirement already satisfied: regex!=2019.12.17 in c:\\users\\ishant\\appdata\\local\\programs\\python\\python310\\lib\\site-packages (from transformers<5.0.0,>=4.32.0->sentence-transformers==2.6.0.dev0) (2023.12.25)\n",
      "Requirement already satisfied: tokenizers<0.19,>=0.14 in c:\\users\\ishant\\appdata\\local\\programs\\python\\python310\\lib\\site-packages (from transformers<5.0.0,>=4.32.0->sentence-transformers==2.6.0.dev0) (0.15.2)\n",
      "Requirement already satisfied: safetensors>=0.4.1 in c:\\users\\ishant\\appdata\\local\\programs\\python\\python310\\lib\\site-packages (from transformers<5.0.0,>=4.32.0->sentence-transformers==2.6.0.dev0) (0.4.2)\n",
      "Requirement already satisfied: joblib>=1.1.1 in c:\\users\\ishant\\appdata\\roaming\\python\\python310\\site-packages (from scikit-learn->sentence-transformers==2.6.0.dev0) (1.2.0)\n",
      "Requirement already satisfied: threadpoolctl>=2.0.0 in c:\\users\\ishant\\appdata\\roaming\\python\\python310\\site-packages (from scikit-learn->sentence-transformers==2.6.0.dev0) (3.1.0)\n",
      "Requirement already satisfied: pyparsing!=3.0.5,>=2.0.2 in c:\\users\\ishant\\appdata\\roaming\\python\\python310\\site-packages (from packaging>=20.9->huggingface-hub>=0.15.1->sentence-transformers==2.6.0.dev0) (3.0.9)\n",
      "Requirement already satisfied: MarkupSafe>=2.0 in c:\\users\\ishant\\appdata\\roaming\\python\\python310\\site-packages (from jinja2->torch>=1.11.0->sentence-transformers==2.6.0.dev0) (2.1.1)\n",
      "Requirement already satisfied: charset-normalizer<4,>=2 in c:\\users\\ishant\\appdata\\roaming\\python\\python310\\site-packages (from requests->huggingface-hub>=0.15.1->sentence-transformers==2.6.0.dev0) (3.0.1)\n",
      "Requirement already satisfied: idna<4,>=2.5 in c:\\users\\ishant\\appdata\\roaming\\python\\python310\\site-packages (from requests->huggingface-hub>=0.15.1->sentence-transformers==2.6.0.dev0) (3.4)\n",
      "Requirement already satisfied: urllib3<3,>=1.21.1 in c:\\users\\ishant\\appdata\\roaming\\python\\python310\\site-packages (from requests->huggingface-hub>=0.15.1->sentence-transformers==2.6.0.dev0) (1.26.14)\n",
      "Requirement already satisfied: certifi>=2017.4.17 in c:\\users\\ishant\\appdata\\roaming\\python\\python310\\site-packages (from requests->huggingface-hub>=0.15.1->sentence-transformers==2.6.0.dev0) (2022.12.7)\n",
      "Requirement already satisfied: mpmath>=0.19 in c:\\users\\ishant\\appdata\\local\\programs\\python\\python310\\lib\\site-packages (from sympy->torch>=1.11.0->sentence-transformers==2.6.0.dev0) (1.3.0)\n",
      "Building wheels for collected packages: sentence-transformers\n",
      "  Building wheel for sentence-transformers (setup.py): started\n",
      "  Building wheel for sentence-transformers (setup.py): finished with status 'done'\n",
      "  Created wheel for sentence-transformers: filename=sentence_transformers-2.6.0.dev0-py3-none-any.whl size=159049 sha256=021b082d77c5961e55171dd51bf8c49aab43c221456d223e613b29016fe82aca\n",
      "  Stored in directory: C:\\Users\\Ishant\\AppData\\Local\\Temp\\pip-ephem-wheel-cache-y60czv9g\\wheels\\b3\\3c\\de\\567e2e467eb8f9469a0a35ec1590523964792b43ba1341fbf3\n",
      "Successfully built sentence-transformers\n",
      "Installing collected packages: sentence-transformers\n",
      "  Attempting uninstall: sentence-transformers\n",
      "    Found existing installation: sentence-transformers 2.5.1\n",
      "    Uninstalling sentence-transformers-2.5.1:\n",
      "      Successfully uninstalled sentence-transformers-2.5.1\n",
      "Successfully installed sentence-transformers-2.6.0.dev0\n"
     ]
    },
    {
     "name": "stderr",
     "output_type": "stream",
     "text": [
      "  Running command git clone --filter=blob:none --quiet https://github.com/UKPLab/sentence-transformers.git 'C:\\Users\\Ishant\\AppData\\Local\\Temp\\pip-req-build-waoum10e'\n"
     ]
    },
    {
     "name": "stdout",
     "output_type": "stream",
     "text": [
      "Collecting git+https://github.com/Muennighoff/sentence-transformers.git@sgpt_poolings_spech\n",
      "  Cloning https://github.com/Muennighoff/sentence-transformers.git (to revision sgpt_poolings_spech) to c:\\users\\ishant\\appdata\\local\\temp\\pip-req-build-ee977gol\n"
     ]
    },
    {
     "name": "stderr",
     "output_type": "stream",
     "text": [
      "  Running command git clone --filter=blob:none --quiet https://github.com/Muennighoff/sentence-transformers.git 'C:\\Users\\Ishant\\AppData\\Local\\Temp\\pip-req-build-ee977gol'\n",
      "  WARNING: Did not find branch or tag 'sgpt_poolings_spech', assuming revision or ref.\n",
      "  Running command git checkout -q sgpt_poolings_spech\n",
      "  error: pathspec 'sgpt_poolings_spech' did not match any file(s) known to git\n",
      "  error: subprocess-exited-with-error\n",
      "  \n",
      "  git checkout -q sgpt_poolings_spech did not run successfully.\n",
      "  exit code: 1\n",
      "  \n",
      "  See above for output.\n",
      "  \n",
      "  note: This error originates from a subprocess, and is likely not a problem with pip.\n",
      "error: subprocess-exited-with-error\n",
      "\n",
      "git checkout -q sgpt_poolings_spech did not run successfully.\n",
      "exit code: 1\n",
      "\n",
      "See above for output.\n",
      "\n",
      "note: This error originates from a subprocess, and is likely not a problem with pip.\n"
     ]
    },
    {
     "name": "stdout",
     "output_type": "stream",
     "text": [
      "Collecting git+https://github.com/UKPLab/sentence-transformers.git\n",
      "  Cloning https://github.com/UKPLab/sentence-transformers.git to c:\\users\\ishant\\appdata\\local\\temp\\pip-req-build-jlrhbh5e\n",
      "  Resolved https://github.com/UKPLab/sentence-transformers.git to commit fc2a2d84c42b886698f2b20a51af212d2d34e415\n",
      "  Preparing metadata (setup.py): started\n",
      "  Preparing metadata (setup.py): finished with status 'done'\n",
      "Requirement already satisfied: transformers<5.0.0,>=4.32.0 in c:\\users\\ishant\\appdata\\local\\programs\\python\\python310\\lib\\site-packages (from sentence-transformers==2.6.0.dev0) (4.37.2)\n",
      "Requirement already satisfied: tqdm in c:\\users\\ishant\\appdata\\roaming\\python\\python310\\site-packages (from sentence-transformers==2.6.0.dev0) (4.65.0)\n",
      "Requirement already satisfied: torch>=1.11.0 in c:\\users\\ishant\\appdata\\local\\programs\\python\\python310\\lib\\site-packages (from sentence-transformers==2.6.0.dev0) (2.2.0)\n",
      "Requirement already satisfied: numpy in c:\\users\\ishant\\appdata\\local\\programs\\python\\python310\\lib\\site-packages (from sentence-transformers==2.6.0.dev0) (1.24.3)\n",
      "Requirement already satisfied: scikit-learn in c:\\users\\ishant\\appdata\\roaming\\python\\python310\\site-packages (from sentence-transformers==2.6.0.dev0) (1.2.2)\n",
      "Requirement already satisfied: scipy in c:\\users\\ishant\\appdata\\roaming\\python\\python310\\site-packages (from sentence-transformers==2.6.0.dev0) (1.10.1)\n",
      "Requirement already satisfied: huggingface-hub>=0.15.1 in c:\\users\\ishant\\appdata\\local\\programs\\python\\python310\\lib\\site-packages (from sentence-transformers==2.6.0.dev0) (0.20.3)\n",
      "Requirement already satisfied: Pillow in c:\\users\\ishant\\appdata\\roaming\\python\\python310\\site-packages (from sentence-transformers==2.6.0.dev0) (9.4.0)\n",
      "Requirement already satisfied: filelock in c:\\users\\ishant\\appdata\\roaming\\python\\python310\\site-packages (from huggingface-hub>=0.15.1->sentence-transformers==2.6.0.dev0) (3.12.0)\n",
      "Requirement already satisfied: fsspec>=2023.5.0 in c:\\users\\ishant\\appdata\\local\\programs\\python\\python310\\lib\\site-packages (from huggingface-hub>=0.15.1->sentence-transformers==2.6.0.dev0) (2024.2.0)\n",
      "Requirement already satisfied: requests in c:\\users\\ishant\\appdata\\local\\programs\\python\\python310\\lib\\site-packages (from huggingface-hub>=0.15.1->sentence-transformers==2.6.0.dev0) (2.31.0)\n",
      "Requirement already satisfied: pyyaml>=5.1 in c:\\users\\ishant\\appdata\\local\\programs\\python\\python310\\lib\\site-packages (from huggingface-hub>=0.15.1->sentence-transformers==2.6.0.dev0) (6.0)\n",
      "Requirement already satisfied: typing-extensions>=3.7.4.3 in c:\\users\\ishant\\appdata\\local\\programs\\python\\python310\\lib\\site-packages (from huggingface-hub>=0.15.1->sentence-transformers==2.6.0.dev0) (4.9.0)\n",
      "Requirement already satisfied: packaging>=20.9 in c:\\users\\ishant\\appdata\\roaming\\python\\python310\\site-packages (from huggingface-hub>=0.15.1->sentence-transformers==2.6.0.dev0) (21.3)\n",
      "Requirement already satisfied: sympy in c:\\users\\ishant\\appdata\\local\\programs\\python\\python310\\lib\\site-packages (from torch>=1.11.0->sentence-transformers==2.6.0.dev0) (1.12)\n",
      "Requirement already satisfied: networkx in c:\\users\\ishant\\appdata\\local\\programs\\python\\python310\\lib\\site-packages (from torch>=1.11.0->sentence-transformers==2.6.0.dev0) (3.2.1)\n",
      "Requirement already satisfied: jinja2 in c:\\users\\ishant\\appdata\\roaming\\python\\python310\\site-packages (from torch>=1.11.0->sentence-transformers==2.6.0.dev0) (3.1.2)\n",
      "Requirement already satisfied: colorama in c:\\users\\ishant\\appdata\\roaming\\python\\python310\\site-packages (from tqdm->sentence-transformers==2.6.0.dev0) (0.4.5)\n",
      "Requirement already satisfied: regex!=2019.12.17 in c:\\users\\ishant\\appdata\\local\\programs\\python\\python310\\lib\\site-packages (from transformers<5.0.0,>=4.32.0->sentence-transformers==2.6.0.dev0) (2023.12.25)\n",
      "Requirement already satisfied: tokenizers<0.19,>=0.14 in c:\\users\\ishant\\appdata\\local\\programs\\python\\python310\\lib\\site-packages (from transformers<5.0.0,>=4.32.0->sentence-transformers==2.6.0.dev0) (0.15.2)\n",
      "Requirement already satisfied: safetensors>=0.4.1 in c:\\users\\ishant\\appdata\\local\\programs\\python\\python310\\lib\\site-packages (from transformers<5.0.0,>=4.32.0->sentence-transformers==2.6.0.dev0) (0.4.2)\n",
      "Requirement already satisfied: joblib>=1.1.1 in c:\\users\\ishant\\appdata\\roaming\\python\\python310\\site-packages (from scikit-learn->sentence-transformers==2.6.0.dev0) (1.2.0)\n",
      "Requirement already satisfied: threadpoolctl>=2.0.0 in c:\\users\\ishant\\appdata\\roaming\\python\\python310\\site-packages (from scikit-learn->sentence-transformers==2.6.0.dev0) (3.1.0)\n",
      "Requirement already satisfied: pyparsing!=3.0.5,>=2.0.2 in c:\\users\\ishant\\appdata\\roaming\\python\\python310\\site-packages (from packaging>=20.9->huggingface-hub>=0.15.1->sentence-transformers==2.6.0.dev0) (3.0.9)\n",
      "Requirement already satisfied: MarkupSafe>=2.0 in c:\\users\\ishant\\appdata\\roaming\\python\\python310\\site-packages (from jinja2->torch>=1.11.0->sentence-transformers==2.6.0.dev0) (2.1.1)\n",
      "Requirement already satisfied: charset-normalizer<4,>=2 in c:\\users\\ishant\\appdata\\roaming\\python\\python310\\site-packages (from requests->huggingface-hub>=0.15.1->sentence-transformers==2.6.0.dev0) (3.0.1)\n",
      "Requirement already satisfied: idna<4,>=2.5 in c:\\users\\ishant\\appdata\\roaming\\python\\python310\\site-packages (from requests->huggingface-hub>=0.15.1->sentence-transformers==2.6.0.dev0) (3.4)\n",
      "Requirement already satisfied: urllib3<3,>=1.21.1 in c:\\users\\ishant\\appdata\\roaming\\python\\python310\\site-packages (from requests->huggingface-hub>=0.15.1->sentence-transformers==2.6.0.dev0) (1.26.14)\n",
      "Requirement already satisfied: certifi>=2017.4.17 in c:\\users\\ishant\\appdata\\roaming\\python\\python310\\site-packages (from requests->huggingface-hub>=0.15.1->sentence-transformers==2.6.0.dev0) (2022.12.7)\n",
      "Requirement already satisfied: mpmath>=0.19 in c:\\users\\ishant\\appdata\\local\\programs\\python\\python310\\lib\\site-packages (from sympy->torch>=1.11.0->sentence-transformers==2.6.0.dev0) (1.3.0)\n"
     ]
    },
    {
     "name": "stderr",
     "output_type": "stream",
     "text": [
      "  Running command git clone --filter=blob:none --quiet https://github.com/UKPLab/sentence-transformers.git 'C:\\Users\\Ishant\\AppData\\Local\\Temp\\pip-req-build-jlrhbh5e'\n"
     ]
    },
    {
     "name": "stdout",
     "output_type": "stream",
     "text": [
      "Requirement already satisfied: sentence-transformers in c:\\users\\ishant\\appdata\\local\\programs\\python\\python310\\lib\\site-packages (2.6.0.dev0)\n",
      "Requirement already satisfied: transformers<5.0.0,>=4.32.0 in c:\\users\\ishant\\appdata\\local\\programs\\python\\python310\\lib\\site-packages (from sentence-transformers) (4.37.2)\n",
      "Requirement already satisfied: tqdm in c:\\users\\ishant\\appdata\\roaming\\python\\python310\\site-packages (from sentence-transformers) (4.65.0)\n",
      "Requirement already satisfied: torch>=1.11.0 in c:\\users\\ishant\\appdata\\local\\programs\\python\\python310\\lib\\site-packages (from sentence-transformers) (2.2.0)\n",
      "Requirement already satisfied: numpy in c:\\users\\ishant\\appdata\\local\\programs\\python\\python310\\lib\\site-packages (from sentence-transformers) (1.24.3)\n",
      "Requirement already satisfied: scikit-learn in c:\\users\\ishant\\appdata\\roaming\\python\\python310\\site-packages (from sentence-transformers) (1.2.2)\n",
      "Requirement already satisfied: scipy in c:\\users\\ishant\\appdata\\roaming\\python\\python310\\site-packages (from sentence-transformers) (1.10.1)\n",
      "Requirement already satisfied: huggingface-hub>=0.15.1 in c:\\users\\ishant\\appdata\\local\\programs\\python\\python310\\lib\\site-packages (from sentence-transformers) (0.20.3)\n",
      "Requirement already satisfied: Pillow in c:\\users\\ishant\\appdata\\roaming\\python\\python310\\site-packages (from sentence-transformers) (9.4.0)\n",
      "Requirement already satisfied: filelock in c:\\users\\ishant\\appdata\\roaming\\python\\python310\\site-packages (from huggingface-hub>=0.15.1->sentence-transformers) (3.12.0)\n",
      "Requirement already satisfied: fsspec>=2023.5.0 in c:\\users\\ishant\\appdata\\local\\programs\\python\\python310\\lib\\site-packages (from huggingface-hub>=0.15.1->sentence-transformers) (2024.2.0)\n",
      "Requirement already satisfied: requests in c:\\users\\ishant\\appdata\\local\\programs\\python\\python310\\lib\\site-packages (from huggingface-hub>=0.15.1->sentence-transformers) (2.31.0)\n",
      "Requirement already satisfied: pyyaml>=5.1 in c:\\users\\ishant\\appdata\\local\\programs\\python\\python310\\lib\\site-packages (from huggingface-hub>=0.15.1->sentence-transformers) (6.0)\n",
      "Requirement already satisfied: typing-extensions>=3.7.4.3 in c:\\users\\ishant\\appdata\\local\\programs\\python\\python310\\lib\\site-packages (from huggingface-hub>=0.15.1->sentence-transformers) (4.9.0)\n",
      "Requirement already satisfied: packaging>=20.9 in c:\\users\\ishant\\appdata\\roaming\\python\\python310\\site-packages (from huggingface-hub>=0.15.1->sentence-transformers) (21.3)\n",
      "Requirement already satisfied: sympy in c:\\users\\ishant\\appdata\\local\\programs\\python\\python310\\lib\\site-packages (from torch>=1.11.0->sentence-transformers) (1.12)\n",
      "Requirement already satisfied: networkx in c:\\users\\ishant\\appdata\\local\\programs\\python\\python310\\lib\\site-packages (from torch>=1.11.0->sentence-transformers) (3.2.1)\n",
      "Requirement already satisfied: jinja2 in c:\\users\\ishant\\appdata\\roaming\\python\\python310\\site-packages (from torch>=1.11.0->sentence-transformers) (3.1.2)\n",
      "Requirement already satisfied: colorama in c:\\users\\ishant\\appdata\\roaming\\python\\python310\\site-packages (from tqdm->sentence-transformers) (0.4.5)\n",
      "Requirement already satisfied: regex!=2019.12.17 in c:\\users\\ishant\\appdata\\local\\programs\\python\\python310\\lib\\site-packages (from transformers<5.0.0,>=4.32.0->sentence-transformers) (2023.12.25)\n",
      "Requirement already satisfied: tokenizers<0.19,>=0.14 in c:\\users\\ishant\\appdata\\local\\programs\\python\\python310\\lib\\site-packages (from transformers<5.0.0,>=4.32.0->sentence-transformers) (0.15.2)\n",
      "Requirement already satisfied: safetensors>=0.4.1 in c:\\users\\ishant\\appdata\\local\\programs\\python\\python310\\lib\\site-packages (from transformers<5.0.0,>=4.32.0->sentence-transformers) (0.4.2)\n",
      "Requirement already satisfied: joblib>=1.1.1 in c:\\users\\ishant\\appdata\\roaming\\python\\python310\\site-packages (from scikit-learn->sentence-transformers) (1.2.0)\n",
      "Requirement already satisfied: threadpoolctl>=2.0.0 in c:\\users\\ishant\\appdata\\roaming\\python\\python310\\site-packages (from scikit-learn->sentence-transformers) (3.1.0)\n",
      "Requirement already satisfied: pyparsing!=3.0.5,>=2.0.2 in c:\\users\\ishant\\appdata\\roaming\\python\\python310\\site-packages (from packaging>=20.9->huggingface-hub>=0.15.1->sentence-transformers) (3.0.9)\n",
      "Requirement already satisfied: MarkupSafe>=2.0 in c:\\users\\ishant\\appdata\\roaming\\python\\python310\\site-packages (from jinja2->torch>=1.11.0->sentence-transformers) (2.1.1)\n",
      "Requirement already satisfied: charset-normalizer<4,>=2 in c:\\users\\ishant\\appdata\\roaming\\python\\python310\\site-packages (from requests->huggingface-hub>=0.15.1->sentence-transformers) (3.0.1)\n",
      "Requirement already satisfied: idna<4,>=2.5 in c:\\users\\ishant\\appdata\\roaming\\python\\python310\\site-packages (from requests->huggingface-hub>=0.15.1->sentence-transformers) (3.4)\n",
      "Requirement already satisfied: urllib3<3,>=1.21.1 in c:\\users\\ishant\\appdata\\roaming\\python\\python310\\site-packages (from requests->huggingface-hub>=0.15.1->sentence-transformers) (1.26.14)\n",
      "Requirement already satisfied: certifi>=2017.4.17 in c:\\users\\ishant\\appdata\\roaming\\python\\python310\\site-packages (from requests->huggingface-hub>=0.15.1->sentence-transformers) (2022.12.7)\n",
      "Requirement already satisfied: mpmath>=0.19 in c:\\users\\ishant\\appdata\\local\\programs\\python\\python310\\lib\\site-packages (from sympy->torch>=1.11.0->sentence-transformers) (1.3.0)\n"
     ]
    }
   ],
   "source": [
    "!pip install git+https://github.com/UKPLab/sentence-transformers.git\n",
    "\n",
    "!pip install git+https://github.com/Muennighoff/sentence-transformers.git@sgpt_poolings_spech\n",
    "\n",
    "!pip install --upgrade git+https://github.com/UKPLab/sentence-transformers.git\n",
    "\n",
    "!pip install -U sentence-transformers"
   ]
  },
  {
   "cell_type": "code",
   "execution_count": 5,
   "id": "c86fbf95",
   "metadata": {},
   "outputs": [
    {
     "data": {
      "application/vnd.jupyter.widget-view+json": {
       "model_id": "a4d2f59659004811bc78ada9aebb6e31",
       "version_major": 2,
       "version_minor": 0
      },
      "text/plain": [
       "modules.json:   0%|          | 0.00/349 [00:00<?, ?B/s]"
      ]
     },
     "metadata": {},
     "output_type": "display_data"
    },
    {
     "name": "stderr",
     "output_type": "stream",
     "text": [
      "C:\\Users\\Ishant\\AppData\\Local\\Programs\\Python\\Python311\\Lib\\site-packages\\huggingface_hub\\file_download.py:149: UserWarning: `huggingface_hub` cache-system uses symlinks by default to efficiently store duplicated files but your machine does not support them in C:\\Users\\Ishant\\.cache\\huggingface\\hub\\models--sentence-transformers--all-MiniLM-L6-v2. Caching files will still work but in a degraded version that might require more space on your disk. This warning can be disabled by setting the `HF_HUB_DISABLE_SYMLINKS_WARNING` environment variable. For more details, see https://huggingface.co/docs/huggingface_hub/how-to-cache#limitations.\n",
      "To support symlinks on Windows, you either need to activate Developer Mode or to run Python as an administrator. In order to see activate developer mode, see this article: https://docs.microsoft.com/en-us/windows/apps/get-started/enable-your-device-for-development\n",
      "  warnings.warn(message)\n"
     ]
    },
    {
     "data": {
      "application/vnd.jupyter.widget-view+json": {
       "model_id": "9988520be78148f297b99c51c5ef88f0",
       "version_major": 2,
       "version_minor": 0
      },
      "text/plain": [
       "config_sentence_transformers.json:   0%|          | 0.00/116 [00:00<?, ?B/s]"
      ]
     },
     "metadata": {},
     "output_type": "display_data"
    },
    {
     "data": {
      "application/vnd.jupyter.widget-view+json": {
       "model_id": "7e2c08fe7a1d4e2a984cf8f1e79c9a89",
       "version_major": 2,
       "version_minor": 0
      },
      "text/plain": [
       "README.md:   0%|          | 0.00/10.7k [00:00<?, ?B/s]"
      ]
     },
     "metadata": {},
     "output_type": "display_data"
    },
    {
     "data": {
      "application/vnd.jupyter.widget-view+json": {
       "model_id": "f4e8a51bb2ef4cb9933980dfac0b7f0d",
       "version_major": 2,
       "version_minor": 0
      },
      "text/plain": [
       "sentence_bert_config.json:   0%|          | 0.00/53.0 [00:00<?, ?B/s]"
      ]
     },
     "metadata": {},
     "output_type": "display_data"
    },
    {
     "data": {
      "application/vnd.jupyter.widget-view+json": {
       "model_id": "ca020e79477c4f9f96050c22b4056aaa",
       "version_major": 2,
       "version_minor": 0
      },
      "text/plain": [
       "config.json:   0%|          | 0.00/612 [00:00<?, ?B/s]"
      ]
     },
     "metadata": {},
     "output_type": "display_data"
    },
    {
     "data": {
      "application/vnd.jupyter.widget-view+json": {
       "model_id": "d9fb879f74c64aeaaf065dfb2f74345d",
       "version_major": 2,
       "version_minor": 0
      },
      "text/plain": [
       "pytorch_model.bin:   0%|          | 0.00/90.9M [00:00<?, ?B/s]"
      ]
     },
     "metadata": {},
     "output_type": "display_data"
    },
    {
     "name": "stderr",
     "output_type": "stream",
     "text": [
      "C:\\Users\\Ishant\\AppData\\Local\\Programs\\Python\\Python311\\Lib\\site-packages\\torch\\_utils.py:831: UserWarning: TypedStorage is deprecated. It will be removed in the future and UntypedStorage will be the only storage class. This should only matter to you if you are using storages directly.  To access UntypedStorage directly, use tensor.untyped_storage() instead of tensor.storage()\n",
      "  return self.fget.__get__(instance, owner)()\n"
     ]
    },
    {
     "data": {
      "application/vnd.jupyter.widget-view+json": {
       "model_id": "4cb740a8208249eb825eb2627a90853e",
       "version_major": 2,
       "version_minor": 0
      },
      "text/plain": [
       "tokenizer_config.json:   0%|          | 0.00/350 [00:00<?, ?B/s]"
      ]
     },
     "metadata": {},
     "output_type": "display_data"
    },
    {
     "data": {
      "application/vnd.jupyter.widget-view+json": {
       "model_id": "8f9d896273ce4ca6a8638d1688e5770a",
       "version_major": 2,
       "version_minor": 0
      },
      "text/plain": [
       "vocab.txt:   0%|          | 0.00/232k [00:00<?, ?B/s]"
      ]
     },
     "metadata": {},
     "output_type": "display_data"
    },
    {
     "data": {
      "application/vnd.jupyter.widget-view+json": {
       "model_id": "100360682fb945df94dc7208366a415c",
       "version_major": 2,
       "version_minor": 0
      },
      "text/plain": [
       "tokenizer.json:   0%|          | 0.00/466k [00:00<?, ?B/s]"
      ]
     },
     "metadata": {},
     "output_type": "display_data"
    },
    {
     "data": {
      "application/vnd.jupyter.widget-view+json": {
       "model_id": "89369cc5e60846e98daf659e8cd27d76",
       "version_major": 2,
       "version_minor": 0
      },
      "text/plain": [
       "special_tokens_map.json:   0%|          | 0.00/112 [00:00<?, ?B/s]"
      ]
     },
     "metadata": {},
     "output_type": "display_data"
    },
    {
     "data": {
      "application/vnd.jupyter.widget-view+json": {
       "model_id": "e348c8b559d04aa4bf29bf9aeaecdbed",
       "version_major": 2,
       "version_minor": 0
      },
      "text/plain": [
       "1_Pooling/config.json:   0%|          | 0.00/190 [00:00<?, ?B/s]"
      ]
     },
     "metadata": {},
     "output_type": "display_data"
    }
   ],
   "source": [
    "from sentence_transformers import SentenceTransformer, util\n",
    "\n",
    "# util.download_model(\"hkunlp/instructor-large\")\n",
    "\n",
    "# model = SentenceTransformer(\"hkunlp/instructor-large\")\n",
    "model = SentenceTransformer('sentence-transformers/all-MiniLM-L6-v2')"
   ]
  },
  {
   "cell_type": "code",
   "execution_count": 6,
   "id": "14c9fdcd",
   "metadata": {},
   "outputs": [],
   "source": [
    "model.save(\"D:\\\\Projects\\\\mini project\\\\LLM_Project - Copy\\\\all-MiniLM-L6-v2\")"
   ]
  },
  {
   "cell_type": "code",
   "execution_count": 3,
   "id": "934b7c6f",
   "metadata": {},
   "outputs": [
    {
     "name": "stdout",
     "output_type": "stream",
     "text": [
      "Collecting sentence_transformers\n",
      "  Using cached sentence_transformers-2.5.1-py3-none-any.whl.metadata (11 kB)\n",
      "Requirement already satisfied: transformers<5.0.0,>=4.32.0 in c:\\users\\ishant\\appdata\\local\\programs\\python\\python311\\lib\\site-packages (from sentence_transformers) (4.38.0.dev0)\n",
      "Requirement already satisfied: tqdm in c:\\users\\ishant\\appdata\\local\\programs\\python\\python311\\lib\\site-packages (from sentence_transformers) (4.65.0)\n",
      "Requirement already satisfied: torch>=1.11.0 in c:\\users\\ishant\\appdata\\local\\programs\\python\\python311\\lib\\site-packages (from sentence_transformers) (2.1.0)\n",
      "Requirement already satisfied: numpy in c:\\users\\ishant\\appdata\\local\\programs\\python\\python311\\lib\\site-packages (from sentence_transformers) (1.24.3)\n",
      "Requirement already satisfied: scikit-learn in c:\\users\\ishant\\appdata\\local\\programs\\python\\python311\\lib\\site-packages (from sentence_transformers) (1.2.2)\n",
      "Requirement already satisfied: scipy in c:\\users\\ishant\\appdata\\local\\programs\\python\\python311\\lib\\site-packages (from sentence_transformers) (1.10.1)\n",
      "Requirement already satisfied: huggingface-hub>=0.15.1 in c:\\users\\ishant\\appdata\\local\\programs\\python\\python311\\lib\\site-packages (from sentence_transformers) (0.20.3)\n",
      "Requirement already satisfied: Pillow in c:\\users\\ishant\\appdata\\local\\programs\\python\\python311\\lib\\site-packages (from sentence_transformers) (9.5.0)\n",
      "Requirement already satisfied: filelock in c:\\users\\ishant\\appdata\\local\\programs\\python\\python311\\lib\\site-packages (from huggingface-hub>=0.15.1->sentence_transformers) (3.12.4)\n",
      "Requirement already satisfied: fsspec>=2023.5.0 in c:\\users\\ishant\\appdata\\local\\programs\\python\\python311\\lib\\site-packages (from huggingface-hub>=0.15.1->sentence_transformers) (2023.9.0)\n",
      "Requirement already satisfied: requests in c:\\users\\ishant\\appdata\\local\\programs\\python\\python311\\lib\\site-packages (from huggingface-hub>=0.15.1->sentence_transformers) (2.31.0)\n",
      "Requirement already satisfied: pyyaml>=5.1 in c:\\users\\ishant\\appdata\\local\\programs\\python\\python311\\lib\\site-packages (from huggingface-hub>=0.15.1->sentence_transformers) (6.0)\n",
      "Requirement already satisfied: typing-extensions>=3.7.4.3 in c:\\users\\ishant\\appdata\\local\\programs\\python\\python311\\lib\\site-packages (from huggingface-hub>=0.15.1->sentence_transformers) (4.9.0)\n",
      "Requirement already satisfied: packaging>=20.9 in c:\\users\\ishant\\appdata\\local\\programs\\python\\python311\\lib\\site-packages (from huggingface-hub>=0.15.1->sentence_transformers) (23.2)\n",
      "Requirement already satisfied: sympy in c:\\users\\ishant\\appdata\\local\\programs\\python\\python311\\lib\\site-packages (from torch>=1.11.0->sentence_transformers) (1.12)\n",
      "Requirement already satisfied: networkx in c:\\users\\ishant\\appdata\\local\\programs\\python\\python311\\lib\\site-packages (from torch>=1.11.0->sentence_transformers) (3.1)\n",
      "Requirement already satisfied: jinja2 in c:\\users\\ishant\\appdata\\local\\programs\\python\\python311\\lib\\site-packages (from torch>=1.11.0->sentence_transformers) (3.1.2)\n",
      "Requirement already satisfied: colorama in c:\\users\\ishant\\appdata\\local\\programs\\python\\python311\\lib\\site-packages (from tqdm->sentence_transformers) (0.4.6)\n",
      "Requirement already satisfied: regex!=2019.12.17 in c:\\users\\ishant\\appdata\\local\\programs\\python\\python311\\lib\\site-packages (from transformers<5.0.0,>=4.32.0->sentence_transformers) (2023.6.3)\n",
      "Requirement already satisfied: tokenizers<0.19,>=0.14 in c:\\users\\ishant\\appdata\\local\\programs\\python\\python311\\lib\\site-packages (from transformers<5.0.0,>=4.32.0->sentence_transformers) (0.15.1)\n",
      "Requirement already satisfied: safetensors>=0.4.1 in c:\\users\\ishant\\appdata\\local\\programs\\python\\python311\\lib\\site-packages (from transformers<5.0.0,>=4.32.0->sentence_transformers) (0.4.2)\n",
      "Requirement already satisfied: joblib>=1.1.1 in c:\\users\\ishant\\appdata\\local\\programs\\python\\python311\\lib\\site-packages (from scikit-learn->sentence_transformers) (1.2.0)\n",
      "Requirement already satisfied: threadpoolctl>=2.0.0 in c:\\users\\ishant\\appdata\\local\\programs\\python\\python311\\lib\\site-packages (from scikit-learn->sentence_transformers) (3.1.0)\n",
      "Requirement already satisfied: MarkupSafe>=2.0 in c:\\users\\ishant\\appdata\\local\\programs\\python\\python311\\lib\\site-packages (from jinja2->torch>=1.11.0->sentence_transformers) (2.1.3)\n",
      "Requirement already satisfied: charset-normalizer<4,>=2 in c:\\users\\ishant\\appdata\\local\\programs\\python\\python311\\lib\\site-packages (from requests->huggingface-hub>=0.15.1->sentence_transformers) (3.1.0)\n",
      "Requirement already satisfied: idna<4,>=2.5 in c:\\users\\ishant\\appdata\\local\\programs\\python\\python311\\lib\\site-packages (from requests->huggingface-hub>=0.15.1->sentence_transformers) (3.4)\n",
      "Requirement already satisfied: urllib3<3,>=1.21.1 in c:\\users\\ishant\\appdata\\local\\programs\\python\\python311\\lib\\site-packages (from requests->huggingface-hub>=0.15.1->sentence_transformers) (1.26.16)\n",
      "Requirement already satisfied: certifi>=2017.4.17 in c:\\users\\ishant\\appdata\\local\\programs\\python\\python311\\lib\\site-packages (from requests->huggingface-hub>=0.15.1->sentence_transformers) (2023.5.7)\n",
      "Requirement already satisfied: mpmath>=0.19 in c:\\users\\ishant\\appdata\\local\\programs\\python\\python311\\lib\\site-packages (from sympy->torch>=1.11.0->sentence_transformers) (1.3.0)\n",
      "Using cached sentence_transformers-2.5.1-py3-none-any.whl (156 kB)\n",
      "Installing collected packages: sentence_transformers\n",
      "Successfully installed sentence_transformers-2.5.1\n",
      "Note: you may need to restart the kernel to use updated packages.\n"
     ]
    }
   ],
   "source": [
    "pip install sentence_transformers\n"
   ]
  },
  {
   "cell_type": "code",
   "execution_count": null,
   "id": "0aaaea51",
   "metadata": {},
   "outputs": [],
   "source": []
  }
 ],
 "metadata": {
  "kernelspec": {
   "display_name": "Python 3 (ipykernel)",
   "language": "python",
   "name": "python3"
  },
  "language_info": {
   "codemirror_mode": {
    "name": "ipython",
    "version": 3
   },
   "file_extension": ".py",
   "mimetype": "text/x-python",
   "name": "python",
   "nbconvert_exporter": "python",
   "pygments_lexer": "ipython3",
   "version": "3.11.3"
  }
 },
 "nbformat": 4,
 "nbformat_minor": 5
}
